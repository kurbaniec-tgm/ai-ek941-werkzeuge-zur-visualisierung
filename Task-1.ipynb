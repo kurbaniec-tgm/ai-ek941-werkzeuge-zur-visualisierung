{
 "cells": [
  {
   "cell_type": "code",
   "execution_count": null,
   "metadata": {},
   "outputs": [],
   "source": [
    "%%R\n",
    "# Load the dataset in R and drop N/A values to make plot function calls simpler\n",
    "ti <- read.csv(\"../datasets/titanicRaw.csv\", header = TRUE, sep=\",\")\n",
    "# Delete rows with empty values\n",
    "# For some reasons the r dataset contains three additional rows\n",
    "# Source: https://stackoverflow.com/questions/9126840/delete-rows-with-blank-values-in-one-particular-column\n",
    "ti <- ti[!(is.na(ti$PassengerId) | is.na(ti$Survived) | is.na(ti$Pclass) | ti$Name==\"\" |\n",
    "           ti$Sex==\"\" | is.na(ti$Age) | is.na(ti$SibSp) | is.na(ti$Parch) | ti$Ticket==\"\" |\n",
    "           is.na(ti$Fare) | is.na(ti$Cabin) | ti$Cabin==\"\" | ti$Embarked==\"\"), ] \n",
    "\n",
    "# Generate a \"Who\" column for sorting man/woman/children\n",
    "# Source: https://rstudio-pubs-static.s3.amazonaws.com/143316_106d643df86c4e4c8ae20e9775ab0ec7.html\n",
    "ti$Who[ti$Sex==\"male\"] <- \"man\"\n",
    "ti$Who[ti$Sex==\"female\"] <- \"woman\"\n",
    "ti$Who[ti$Age<18] <- \"child\"\n",
    "length(ti$Age)"
   ]
  }
 ],
 "metadata": {
  "kernelspec": {
   "display_name": "Python 3",
   "language": "python",
   "name": "python3"
  },
  "language_info": {
   "codemirror_mode": {
    "name": "ipython",
    "version": 3
   },
   "file_extension": ".py",
   "mimetype": "text/x-python",
   "name": "python",
   "nbconvert_exporter": "python",
   "pygments_lexer": "ipython3",
   "version": "3.7.4"
  }
 },
 "nbformat": 4,
 "nbformat_minor": 4
}
