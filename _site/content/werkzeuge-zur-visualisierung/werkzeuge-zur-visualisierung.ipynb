{
 "cells": [
  {
   "cell_type": "markdown",
   "metadata": {},
   "source": [
    "{% cite holdgraf_evidence_2014 %}"
   ]
  },
  {
   "cell_type": "markdown",
   "metadata": {},
   "source": [
    "[1]:http://www.quotedb.com/quotes/2112"
   ]
  },
  {
   "cell_type": "code",
   "execution_count": 1,
   "metadata": {},
   "outputs": [
    {
     "name": "stdout",
     "output_type": "stream",
     "text": [
      "package 'lmtest' successfully unpacked and MD5 sums checked\n",
      "\n",
      "The downloaded binary packages are in\n",
      "\tC:\\Users\\aon91\\AppData\\Local\\Temp\\RtmpwhL9Nt\\downloaded_packages\n",
      "package 'vcd' successfully unpacked and MD5 sums checked\n",
      "\n",
      "The downloaded binary packages are in\n",
      "\tC:\\Users\\aon91\\AppData\\Local\\Temp\\RtmpwhL9Nt\\downloaded_packages\n",
      "package 'ggplot2' successfully unpacked and MD5 sums checked\n",
      "\n",
      "The downloaded binary packages are in\n",
      "\tC:\\Users\\aon91\\AppData\\Local\\Temp\\RtmpwhL9Nt\\downloaded_packages\n",
      "package 'stablelearner' successfully unpacked and MD5 sums checked\n",
      "\n",
      "The downloaded binary packages are in\n",
      "\tC:\\Users\\aon91\\AppData\\Local\\Temp\\RtmpwhL9Nt\\downloaded_packages\n"
     ]
    },
    {
     "name": "stderr",
     "output_type": "stream",
     "text": [
      "Warning message:\n",
      "\"package 'vcd' was built under R version 3.6.2\"Loading required package: grid\n",
      "Warning message:\n",
      "\"package 'ggplot2' was built under R version 3.6.2\""
     ]
    }
   ],
   "source": [
    "# Init libraries\n",
    "install.packages(\"lmtest\", repos=\"https://cran.wu.ac.at/\")\n",
    "install.packages(\"vcd\", repos=\"https://cran.wu.ac.at/\")\n",
    "install.packages(\"ggplot2\", repos=\"https://cran.wu.ac.at/\")\n",
    "install.packages(\"stablelearner\", repos=\"https://cran.wu.ac.at/\")\n",
    "library(vcd)\n",
    "library(ggplot2)"
   ]
  },
  {
   "cell_type": "code",
   "execution_count": 7,
   "metadata": {},
   "outputs": [],
   "source": [
    "# Load dataset\n",
    "#ti <- read.csv(\"../datasets/titanic.csv\", header = TRUE, sep=\",\")\n",
    "#ti$Who <- \"NA\"\n",
    "#ti$Who[ti$Sex==\"male\"] <- \"man\"\n",
    "#ti$Who[ti$Sex==\"female\"] <- \"woman\"\n",
    "#ti$Who[ti$Age<18] <- \"child\"\n",
    "# Titanic filtered\n",
    "#ti <- ti[!(is.na(ti$Cabin) | ti$Cabin==\"\" | ti$Embarked==\"\" | is.na(ti$PassengerId) | is.na(ti$Survived) |\n",
    "#           is.na(ti$Pclass) |  ti$Ticket==\"Name\" |is.na(ti$Age) | ti$Ticket==\"\" | ti$Sex==\"\" ), ]\n",
    "# Full titanic dataset: https://rdrr.io/cran/stablelearner/man/titanic.html\n",
    "# Includes crew, which is needed or the simpson paradoxon\n",
    "data(\"titanic\", package = \"stablelearner\")\n",
    "ti <- titanic\n",
    "\n",
    "ti$who <- \"NA\"\n",
    "ti$sex=ti$gender\n",
    "ti$who[ti$sex==\"male\"] <- \"man\"\n",
    "ti$who[ti$sex==\"female\"] <- \"woman\"\n",
    "ti$who[ti$age<18] <- \"child\"\n",
    "#ti <- ti[!( ti$name==\"\" | ti$gender==\"\" | is.na(ti$age) | ti$class==\"\" | ti$embarked==\"\" |\n",
    "#           ti$survived==\"\" | ti$country==\"\" | is.na(ti$ticketno) | is.na(ti$fare) | \n",
    "#           is.na(ti$sibsp) | is.na(ti$parch)), ]\n",
    "ti <- ti[!( ti$class==\"\" | ti$survived==\"\"),]\n",
    "#ti <- ti[!(is.na(ti$Cabin) | ti$Cabin==\"\" | ti$Embarked==\"\" | is.na(ti$PassengerId) | is.na(ti$survived) |\n",
    "#           is.na(ti$Pclass) |  ti$Ticket==\"Name\" |is.na(ti$age) | ti$ticketno==\"\" | ti$gender==\"\" ), ]"
   ]
  },
  {
   "cell_type": "markdown",
   "metadata": {},
   "source": [
    "#### 1. Lade den Datensatz Titanic in R. Beschreibe die Daten anhand der internen Hilfe (hilfreiche R Befehle: ?, help() )\n",
    " "
   ]
  },
  {
   "cell_type": "code",
   "execution_count": 3,
   "metadata": {},
   "outputs": [
    {
     "name": "stdout",
     "output_type": "stream",
     "text": [
      "'data.frame':\t2207 obs. of  13 variables:\n",
      " $ name    : chr  \"Abbing, Mr. Anthony\" \"Abbott, Mr. Eugene Joseph\" \"Abbott, Mr. Rossmore Edward\" \"Abbott, Mrs. Rhoda Mary 'Rosa'\" ...\n",
      " $ gender  : Factor w/ 2 levels \"female\",\"male\": 2 2 2 1 1 2 2 1 2 2 ...\n",
      " $ age     : num  42 13 16 39 16 25 30 28 27 20 ...\n",
      " $ class   : Factor w/ 7 levels \"1st\",\"2nd\",\"3rd\",..: 3 3 3 3 3 3 2 2 3 3 ...\n",
      " $ embarked: Factor w/ 4 levels \"B\",\"C\",\"Q\",\"S\": 4 4 4 4 4 4 2 2 2 4 ...\n",
      " $ country : Factor w/ 48 levels \"Argentina\",\"Australia\",..: 44 44 44 15 30 44 17 17 26 16 ...\n",
      " $ ticketno: int  5547 2673 2673 2673 348125 348122 3381 3381 2699 3101284 ...\n",
      " $ fare    : num  7.11 20.05 20.05 20.05 7.13 ...\n",
      " $ sibsp   : Ord.factor w/ 9 levels \"0\"<\"1\"<\"2\"<\"3\"<..: 1 1 2 2 1 1 2 2 1 1 ...\n",
      " $ parch   : Ord.factor w/ 10 levels \"0\"<\"1\"<\"2\"<\"3\"<..: 1 3 2 2 1 1 1 1 1 1 ...\n",
      " $ survived: Factor w/ 2 levels \"no\",\"yes\": 1 1 1 2 2 2 1 2 2 2 ...\n",
      " $ who     : chr  \"man\" \"child\" \"child\" \"woman\" ...\n",
      " $ sex     : Factor w/ 2 levels \"female\",\"male\": 2 2 2 1 1 2 2 1 2 2 ...\n"
     ]
    },
    {
     "data": {
      "text/html": [
       "No documentation for 'ti' in specified packages and libraries:\n",
       "you could try '??ti'"
      ],
      "text/latex": [
       "No documentation for 'ti' in specified packages and libraries:\n",
       "you could try '??ti'"
      ],
      "text/plain": [
       "No documentation for 'ti' in specified packages and libraries:\n",
       "you could try '??ti'"
      ]
     },
     "metadata": {},
     "output_type": "display_data"
    }
   ],
   "source": [
    "help(ti)\n",
    "str(ti)\n"
   ]
  },
  {
   "cell_type": "markdown",
   "metadata": {},
   "source": [
    "#### 2. Untersuche den Titanic Datensatz mithilfe von Tabellen von absoluten und relativen Häufigkeiten der Ränder heruntergebrochen auf je 2 oder 3 Dimensionen von Variablen. (hilfreiche R Befehle: table(), ftable(), colSums, rowSums(), apply(), xtable())"
   ]
  },
  {
   "cell_type": "code",
   "execution_count": 4,
   "metadata": {},
   "outputs": [],
   "source": [
    "invisible(table(ti$age, ti$fare))"
   ]
  },
  {
   "cell_type": "markdown",
   "metadata": {},
   "source": [
    "#### 3. Stelle die Daten in geeigneter Weise graphisch dar (hilfreiche R Befehle: barplot(), mosaicplot(), assocplot())"
   ]
  },
  {
   "cell_type": "code",
   "execution_count": 5,
   "metadata": {},
   "outputs": [
    {
     "data": {
      "image/png": "[encoded data removed]",
      "text/plain": [
       "plot without title"
      ]
     },
     "metadata": {},
     "output_type": "display_data"
    }
   ],
   "source": [
    "# Countplots in R: https://www.statmethods.net/graphs/bar.html\n",
    "# Create counts from alive column\n",
    "counts <- table(ti$survived)\n",
    "barplot(counts, col=c(\"dodgerblue4\", \"chocolate\"), xlab=\"alive\", ylab=\"count\")"
   ]
  },
  {
   "cell_type": "code",
   "execution_count": 6,
   "metadata": {},
   "outputs": [
    {
     "data": {
      "text/plain": [
       "                  \n",
       "                    no yes\n",
       "  deck crew         23  43\n",
       "  engineering crew 253  71\n",
       "  restaurant staff  66   3\n",
       "  victualling crew 337  94"
      ]
     },
     "metadata": {},
     "output_type": "display_data"
    },
    {
     "data": {
      "image/png": "[encoded data removed]",
      "text/plain": [
       "plot without title"
      ]
     },
     "metadata": {},
     "output_type": "display_data"
    },
    {
     "name": "stderr",
     "output_type": "stream",
     "text": [
      "Warning message in min(x):\n",
      "\"kein nicht-fehlendes Argument für min; gebe Inf zurück\"Warning message in max(x):\n",
      "\"kein nicht-fehlendes Argument für max; gebe -Inf zurück\""
     ]
    },
    {
     "ename": "ERROR",
     "evalue": "Error in plot.window(xlim, ylim, log = log, ...): endliche 'ylim' Werte nötig\n",
     "output_type": "error",
     "traceback": [
      "Error in plot.window(xlim, ylim, log = log, ...): endliche 'ylim' Werte nötig\nTraceback:\n",
      "1. barplot(percentages, col = c(\"chocolate\", \"forestgreen\", \"dodgerblue4\"), \n .     legend = rownames(percentages), beside = TRUE, xlab = \"alive\", \n .     ylab = \"percentage\")",
      "2. barplot.default(percentages, col = c(\"chocolate\", \"forestgreen\", \n .     \"dodgerblue4\"), legend = rownames(percentages), beside = TRUE, \n .     xlab = \"alive\", ylab = \"percentage\")",
      "3. plot.window(xlim, ylim, log = log, ...)"
     ]
    },
    {
     "data": {
      "image/png": "[encoded data removed]",
      "text/plain": [
       "plot without title"
      ]
     },
     "metadata": {},
     "output_type": "display_data"
    },
    {
     "data": {
      "image/png": "[encoded data removed]",
      "text/plain": [
       "plot without title"
      ]
     },
     "metadata": {},
     "output_type": "display_data"
    }
   ],
   "source": [
    "# Form a table with columns class and rows alive\n",
    "counts <- table(ti$class[grepl(\"crew\", ti$class) | grepl(\"staff\", ti$class)],\n",
    "                ti$survived[grepl(\"crew\", ti$class) | grepl(\"staff\", ti$class)])\n",
    "# Delete unused rows\n",
    "# Source: https://stackoverflow.com/questions/37307307/remove-a-row-from-a-data-table-in-r\n",
    "counts <- counts[-1:-3,]\n",
    "counts\n",
    "# Order like seaborn: https://stackoverflow.com/a/56808968\n",
    "barplot(counts, col=c(\"chocolate\", \"forestgreen\", \"dodgerblue4\"),\n",
    "    legend = rownames(counts), beside=TRUE, xlab=\"alive\", ylab=\"count\"\n",
    ")\n",
    "\n",
    "counts <- table(ti$class, ti$survived)\n",
    "# Order like seaborn: https://stackoverflow.com/a/56808968\n",
    "barplot(counts, col=c(\"chocolate\", \"forestgreen\", \"dodgerblue4\"),\n",
    "    legend = rownames(counts), beside=TRUE, xlab=\"alive\", ylab=\"count\"\n",
    ")\n",
    "\n",
    "# Make a table from matrix \n",
    "# https://www.dummies.com/programming/r/how-to-create-a-two-way-data-table-with-r/\n",
    "percentages <- matrix(c(\n",
    "    length(ti$Pclass[ti$Pclass==1 & ti$Survived==0]) / length(ti$Pclass[ti$Pclass==1]),\n",
    "    length(ti$Pclass[ti$Pclass==2 & ti$Survived==0]) / length(ti$Pclass[ti$Pclass==2]),\n",
    "    length(ti$Pclass[ti$Pclass==3 & ti$Survived==0]) / length(ti$Pclass[ti$Pclass==3]),\n",
    "    length(ti$Pclass[ti$Pclass==1 & ti$Survived==1]) / length(ti$Pclass[ti$Pclass==1]),\n",
    "    length(ti$Pclass[ti$Pclass==2 & ti$Survived==1]) / length(ti$Pclass[ti$Pclass==2]),\n",
    "    length(ti$Pclass[ti$Pclass==3 & ti$Survived==1]) / length(ti$Pclass[ti$Pclass==3])\n",
    "), ncol=2)\n",
    "colnames(percentages) <- c(0, 1)\n",
    "rownames(percentages) <- c(1, 2, 3)\n",
    "percentages <- as.table(percentages)\n",
    "\n",
    "barplot(percentages, col=c(\"chocolate\", \"forestgreen\", \"dodgerblue4\"),\n",
    "    legend = rownames(percentages), beside=TRUE, xlab=\"alive\", ylab=\"percentage\"\n",
    ")"
   ]
  },
  {
   "cell_type": "markdown",
   "metadata": {},
   "source": [
    "#### 4. Begründe anhand der quantitativen Ergebnisse, ob Frauen und Kinder zuerst bei der Seenotrettung berücksichtigt wurden."
   ]
  },
  {
   "cell_type": "code",
   "execution_count": null,
   "metadata": {},
   "outputs": [],
   "source": [
    "# Form a table with columns class and rows alive\n",
    "counts <- table(ti$Who, ti$Survived)\n",
    "# Order like seaborn: https://stackoverflow.com/a/56808968\n",
    "barplot(counts, col=c(\"chocolate\", \"forestgreen\", \"dodgerblue4\"),\n",
    "    legend = rownames(counts), beside=TRUE, xlab=\"alive\", ylab=\"count\"\n",
    ")\n",
    "\n",
    "# Make a table from matrix \n",
    "# https://www.dummies.com/programming/r/how-to-create-a-two-way-data-table-with-r/\n",
    "percentages <- matrix(c(\n",
    "    length(ti$Who[ti$Who==\"child\" & ti$Survived==0]) / length(ti$Who[ti$Who==\"child\"]),\n",
    "    length(ti$Who[ti$Who==\"man\" & ti$Survived==0]) / length(ti$Who[ti$Who==\"man\"]),\n",
    "    length(ti$Who[ti$Who==\"woman\" & ti$Survived==0]) / length(ti$Who[ti$Who==\"woman\"]),\n",
    "    length(ti$Who[ti$Who==\"child\" & ti$Survived==1]) / length(ti$Who[ti$Who==\"child\"]),\n",
    "    length(ti$Who[ti$Who==\"man\" & ti$Survived==1]) / length(ti$Who[ti$Who==\"man\"]),\n",
    "    length(ti$Who[ti$Who==\"woman\" & ti$Survived==1]) / length(ti$Who[ti$Who==\"woman\"])\n",
    "), ncol=2)\n",
    "colnames(percentages) <- c(0, 1)\n",
    "rownames(percentages) <- c(\"child\", \"man\", \"woman\")\n",
    "percentages <- as.table(percentages)\n",
    "\n",
    "barplot(percentages, col=c(\"chocolate\", \"forestgreen\", \"dodgerblue4\"),\n",
    "    beside=TRUE, xlab=\"alive\", ylab=\"percentage\"\n",
    ")\n",
    "legend(\"bottomleft\", legend=rownames(percentages), fill=c(\"chocolate\", \"forestgreen\", \"dodgerblue4\"))"
   ]
  },
  {
   "cell_type": "code",
   "execution_count": null,
   "metadata": {},
   "outputs": [],
   "source": [
    "Männer=Dead"
   ]
  },
  {
   "cell_type": "markdown",
   "metadata": {},
   "source": [
    "#### 5. Erkläre, wo sich Anzeichen für Simpson's Paradoxon finden lassen."
   ]
  },
  {
   "cell_type": "markdown",
   "metadata": {},
   "source": [
    "#### 6. Lade den Datensatz 'state.x77' in R. Beschreibe die Daten anhand der internen Hilfe."
   ]
  },
  {
   "cell_type": "code",
   "execution_count": null,
   "metadata": {},
   "outputs": [],
   "source": [
    "?state.x77"
   ]
  },
  {
   "cell_type": "markdown",
   "metadata": {},
   "source": [
    "#### 7. Ermittle mithilfe geeigneter Schätzer für die Lage und Streuung der ersten 5 Variablen, Population, Income, Illiteracy, Life Exp(ectancy) und Murder."
   ]
  },
  {
   "cell_type": "code",
   "execution_count": null,
   "metadata": {},
   "outputs": [],
   "source": [
    "state.x77[,'Population']\n",
    "state.x77[,'Income']\n",
    "state.x77[,'Illiteracy']\n",
    "state.x77[,'Life Exp']\n",
    "state.x77[,'Murder']"
   ]
  },
  {
   "cell_type": "markdown",
   "metadata": {},
   "source": [
    "#### 8. Stelle die Daten der ersten 5 Variablen, Population, Income, Illiteracy, Life Exp(ectancy) und Murder in geeigneter Weise graphisch dar. Verwende dafür wenigstens 2 unterschiedliche graphische Darstellungen."
   ]
  },
  {
   "cell_type": "markdown",
   "metadata": {},
   "source": [
    "#### 9. Begründe anhand der graphischen Darstellung, ob es sich symmetrische oder schiefe Datenverteilungen handelt. Begründe anhand der graphischen Darstellungen, ob schwere oder leichte Ränder vorliegen (und auf welcher Seite)."
   ]
  },
  {
   "cell_type": "markdown",
   "metadata": {},
   "source": [
    "#### 10. Bestimme anhand graphischen Darstellungen aus Punkt 8. und der Erkenntnisse aus 9., ob Ausreißer vorliegen und welche Punkte dies sind."
   ]
  },
  {
   "cell_type": "code",
   "execution_count": null,
   "metadata": {},
   "outputs": [],
   "source": []
  },
  {
   "cell_type": "code",
   "execution_count": null,
   "metadata": {},
   "outputs": [],
   "source": []
  },
  {
   "cell_type": "code",
   "execution_count": null,
   "metadata": {},
   "outputs": [],
   "source": []
  },
  {
   "cell_type": "markdown",
   "metadata": {},
   "source": [
    "{% bibliography --cited %}"
   ]
  }
 ],
 "metadata": {
  "kernelspec": {
   "display_name": "R",
   "language": "R",
   "name": "ir"
  },
  "language_info": {
   "codemirror_mode": "r",
   "file_extension": ".r",
   "mimetype": "text/x-r-source",
   "name": "R",
   "pygments_lexer": "r",
   "version": "3.6.1"
  }
 },
 "nbformat": 4,
 "nbformat_minor": 4
}
