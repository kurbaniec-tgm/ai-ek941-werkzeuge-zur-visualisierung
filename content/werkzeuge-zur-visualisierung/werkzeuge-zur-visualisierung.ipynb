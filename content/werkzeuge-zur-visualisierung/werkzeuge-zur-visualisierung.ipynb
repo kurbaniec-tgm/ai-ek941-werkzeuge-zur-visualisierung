{
 "cells": [
  {
   "cell_type": "markdown",
   "metadata": {},
   "source": [
    "[1]:http://www.quotedb.com/quotes/2112"
   ]
  },
  {
   "cell_type": "code",
   "execution_count": 3,
   "metadata": {},
   "outputs": [
    {
     "name": "stdout",
     "output_type": "stream",
     "text": [
      "package 'lmtest' successfully unpacked and MD5 sums checked\n"
     ]
    },
    {
     "name": "stderr",
     "output_type": "stream",
     "text": [
      "Warning message:\n",
      "\"cannot remove prior installation of package 'lmtest'\"Warning message in file.copy(savedcopy, lib, recursive = TRUE):\n",
      "\"Problem C:\\ProgramData\\Anaconda3\\Lib\\R\\library\\00LOCK\\lmtest\\libs\\x64\\lmtest.dll nach C:\\ProgramData\\Anaconda3\\Lib\\R\\library\\lmtest\\libs\\x64\\lmtest.dll zu kopieren: Permission denied\"Warning message:\n",
      "\"restored 'lmtest'\""
     ]
    },
    {
     "name": "stdout",
     "output_type": "stream",
     "text": [
      "\n",
      "The downloaded binary packages are in\n",
      "\tC:\\Users\\aon91\\AppData\\Local\\Temp\\RtmpuCfPEl\\downloaded_packages\n"
     ]
    },
    {
     "name": "stderr",
     "output_type": "stream",
     "text": [
      "Warning message:\n",
      "\"package 'vcd' is in use and will not be installed\"Warning message:\n",
      "\"package 'ggplot2' is in use and will not be installed\""
     ]
    },
    {
     "name": "stdout",
     "output_type": "stream",
     "text": [
      "package 'stablelearner' successfully unpacked and MD5 sums checked\n",
      "\n",
      "The downloaded binary packages are in\n",
      "\tC:\\Users\\aon91\\AppData\\Local\\Temp\\RtmpuCfPEl\\downloaded_packages\n"
     ]
    }
   ],
   "source": [
    "# Init libraries\n",
    "install.packages(\"lmtest\", repos=\"https://cran.wu.ac.at/\")\n",
    "install.packages(\"vcd\", repos=\"https://cran.wu.ac.at/\")\n",
    "install.packages(\"ggplot2\", repos=\"https://cran.wu.ac.at/\")\n",
    "install.packages(\"stablelearner\", repos=\"https://cran.wu.ac.at/\")\n",
    "library(vcd)\n",
    "library(ggplot2)"
   ]
  },
  {
   "cell_type": "code",
   "execution_count": 4,
   "metadata": {},
   "outputs": [],
   "source": [
    "# Load dataset\n",
    "#ti <- read.csv(\"../datasets/titanic.csv\", header = TRUE, sep=\",\")\n",
    "#ti$Who <- \"NA\"\n",
    "#ti$Who[ti$Sex==\"male\"] <- \"man\"\n",
    "#ti$Who[ti$Sex==\"female\"] <- \"woman\"\n",
    "#ti$Who[ti$Age<18] <- \"child\"\n",
    "# Titanic filtered\n",
    "#ti <- ti[!(is.na(ti$Cabin) | ti$Cabin==\"\" | ti$Embarked==\"\" | is.na(ti$PassengerId) | is.na(ti$Survived) |\n",
    "#           is.na(ti$Pclass) |  ti$Ticket==\"Name\" |is.na(ti$Age) | ti$Ticket==\"\" | ti$Sex==\"\" ), ]\n",
    "# Full titanic dataset: https://rdrr.io/cran/stablelearner/man/titanic.html\n",
    "# Includes crew, which is needed or the simpson paradoxon\n",
    "data(\"titanic\", package = \"stablelearner\")\n",
    "ti <- titanic\n",
    "\n",
    "ti$who <- \"NA\"\n",
    "ti$sex=ti$gender\n",
    "ti$who[ti$sex==\"male\"] <- \"man\"\n",
    "ti$who[ti$sex==\"female\"] <- \"woman\"\n",
    "ti$who[ti$age<18] <- \"child\"\n",
    "#ti <- ti[!( ti$name==\"\" | ti$gender==\"\" | is.na(ti$age) | ti$class==\"\" | ti$embarked==\"\" |\n",
    "#           ti$survived==\"\" | ti$country==\"\" | is.na(ti$ticketno) | is.na(ti$fare) | \n",
    "#           is.na(ti$sibsp) | is.na(ti$parch)), ]\n",
    "ti <- ti[!( ti$class==\"\" | ti$survived==\"\"),]\n",
    "#ti <- ti[!(is.na(ti$Cabin) | ti$Cabin==\"\" | ti$Embarked==\"\" | is.na(ti$PassengerId) | is.na(ti$survived) |\n",
    "#           is.na(ti$Pclass) |  ti$Ticket==\"Name\" |is.na(ti$age) | ti$ticketno==\"\" | ti$gender==\"\" ), ]"
   ]
  },
  {
   "cell_type": "markdown",
   "metadata": {},
   "source": [
    "### 1. Lade den Datensatz Titanic in R. Beschreibe die Daten anhand der internen Hilfe (hilfreiche R Befehle: ?, help() )\n",
    " "
   ]
  },
  {
   "cell_type": "code",
   "execution_count": 5,
   "metadata": {},
   "outputs": [
    {
     "name": "stdout",
     "output_type": "stream",
     "text": [
      "'data.frame':\t2207 obs. of  13 variables:\n",
      " $ name    : chr  \"Abbing, Mr. Anthony\" \"Abbott, Mr. Eugene Joseph\" \"Abbott, Mr. Rossmore Edward\" \"Abbott, Mrs. Rhoda Mary 'Rosa'\" ...\n",
      " $ gender  : Factor w/ 2 levels \"female\",\"male\": 2 2 2 1 1 2 2 1 2 2 ...\n",
      " $ age     : num  42 13 16 39 16 25 30 28 27 20 ...\n",
      " $ class   : Factor w/ 7 levels \"1st\",\"2nd\",\"3rd\",..: 3 3 3 3 3 3 2 2 3 3 ...\n",
      " $ embarked: Factor w/ 4 levels \"B\",\"C\",\"Q\",\"S\": 4 4 4 4 4 4 2 2 2 4 ...\n",
      " $ country : Factor w/ 48 levels \"Argentina\",\"Australia\",..: 44 44 44 15 30 44 17 17 26 16 ...\n",
      " $ ticketno: int  5547 2673 2673 2673 348125 348122 3381 3381 2699 3101284 ...\n",
      " $ fare    : num  7.11 20.05 20.05 20.05 7.13 ...\n",
      " $ sibsp   : Ord.factor w/ 9 levels \"0\"<\"1\"<\"2\"<\"3\"<..: 1 1 2 2 1 1 2 2 1 1 ...\n",
      " $ parch   : Ord.factor w/ 10 levels \"0\"<\"1\"<\"2\"<\"3\"<..: 1 3 2 2 1 1 1 1 1 1 ...\n",
      " $ survived: Factor w/ 2 levels \"no\",\"yes\": 1 1 1 2 2 2 1 2 2 2 ...\n",
      " $ who     : chr  \"man\" \"child\" \"child\" \"woman\" ...\n",
      " $ sex     : Factor w/ 2 levels \"female\",\"male\": 2 2 2 1 1 2 2 1 2 2 ...\n"
     ]
    },
    {
     "data": {
      "text/html": [
       "No documentation for 'ti' in specified packages and libraries:\n",
       "you could try '??ti'"
      ],
      "text/latex": [
       "No documentation for 'ti' in specified packages and libraries:\n",
       "you could try '??ti'"
      ],
      "text/plain": [
       "No documentation for 'ti' in specified packages and libraries:\n",
       "you could try '??ti'"
      ]
     },
     "metadata": {},
     "output_type": "display_data"
    }
   ],
   "source": [
    "help(ti)\n",
    "str(ti)\n"
   ]
  },
  {
   "cell_type": "markdown",
   "metadata": {},
   "source": [
    "### 2. Untersuche den Titanic Datensatz mithilfe von Tabellen von absoluten und relativen Häufigkeiten der Ränder heruntergebrochen auf je 2 oder 3 Dimensionen von Variablen. (hilfreiche R Befehle: table(), ftable(), colSums, rowSums(), apply(), xtable())"
   ]
  },
  {
   "cell_type": "code",
   "execution_count": 6,
   "metadata": {},
   "outputs": [],
   "source": [
    "invisible(table(ti$age, ti$fare))"
   ]
  },
  {
   "cell_type": "markdown",
   "metadata": {},
   "source": [
    "### 3. Stelle die Daten in geeigneter Weise graphisch dar (hilfreiche R Befehle: barplot(), mosaicplot(), assocplot())"
   ]
  },
  {
   "cell_type": "code",
   "execution_count": 107,
   "metadata": {},
   "outputs": [
    {
     "data": {
      "image/png": "[encoded data removed]",
      "text/plain": [
       "plot without title"
      ]
     },
     "metadata": {},
     "output_type": "display_data"
    },
    {
     "data": {
      "image/png": "[encoded data removed]",
      "text/plain": [
       "Plot with title \"counts\""
      ]
     },
     "metadata": {},
     "output_type": "display_data"
    }
   ],
   "source": [
    "# Countplots in R: https://www.statmethods.net/graphs/bar.html\n",
    "# Create counts from alive column\n",
    "counts <- table(ti$survived)\n",
    "barplot(counts, col=c(\"dodgerblue4\", \"chocolate\"), xlab=\"alive\", ylab=\"count\")\n",
    "mosaicplot(counts, col=c(\"dodgerblue4\", \"chocolate\"), xlab=\"alive\", ylab=\"count\")"
   ]
  },
  {
   "cell_type": "code",
   "execution_count": 8,
   "metadata": {},
   "outputs": [
    {
     "data": {
      "image/png": "[encoded data removed]",
      "text/plain": [
       "plot without title"
      ]
     },
     "metadata": {},
     "output_type": "display_data"
    },
    {
     "data": {
      "image/png": "[encoded data removed]",
      "text/plain": [
       "plot without title"
      ]
     },
     "metadata": {},
     "output_type": "display_data"
    },
    {
     "data": {
      "image/png": "[encoded data removed]",
      "text/plain": [
       "plot without title"
      ]
     },
     "metadata": {},
     "output_type": "display_data"
    }
   ],
   "source": [
    "# Form a table with columns class and rows alive\n",
    "counts <- table(ti$class[grepl(\"crew\", ti$class) | grepl(\"staff\", ti$class)],\n",
    "                ti$survived[grepl(\"crew\", ti$class) | grepl(\"staff\", ti$class)])\n",
    "# Delete unused rows\n",
    "# Source: https://stackoverflow.com/questions/37307307/remove-a-row-from-a-data-table-in-r\n",
    "counts <- counts[-1:-3,]\n",
    "# Order like seaborn: https://stackoverflow.com/a/56808968\n",
    "barplot(counts, col=c(\"chocolate\", \"forestgreen\", \"dodgerblue4\"),\n",
    "    legend = rownames(counts), beside=TRUE, xlab=\"alive\", ylab=\"count\"\n",
    ")\n",
    "\n",
    "counts <- table(ti$class, ti$survived)\n",
    "# Order like seaborn: https://stackoverflow.com/a/56808968\n",
    "barplot(counts, col=c(\"chocolate\", \"forestgreen\", \"dodgerblue4\"),\n",
    "    legend = rownames(counts), beside=TRUE, xlab=\"alive\", ylab=\"count\"\n",
    ")\n",
    "\n",
    "# Make a table from matrix \n",
    "# https://www.dummies.com/programming/r/how-to-create-a-two-way-data-table-with-r/\n",
    "percentages <- matrix(c(\n",
    "    length(ti$class[ti$class==\"1st\" & ti$survived==\"no\"]) / length(ti$class[ti$class==\"1st\"]),\n",
    "    length(ti$class[ti$class==\"2nd\" & ti$survived==\"no\"]) / length(ti$class[ti$class==\"2nd\"]),\n",
    "    length(ti$class[ti$class==\"3rd\" & ti$survived==\"no\"]) / length(ti$class[ti$class==\"3rd\"]),\n",
    "    length(ti$class[ti$class==\"1st\" & ti$survived==\"yes\"]) / length(ti$class[ti$class==\"1st\"]),\n",
    "    length(ti$class[ti$class==\"2nd\" & ti$survived==\"yes\"]) / length(ti$class[ti$class==\"2nd\"]),\n",
    "    length(ti$class[ti$class==\"3rd\" & ti$survived==\"yes\"]) / length(ti$class[ti$class==\"3rd\"])\n",
    "), ncol=2)\n",
    "colnames(percentages) <- c(0, 1)\n",
    "rownames(percentages) <- c(\"1st\", \"2nd\", \"3rd\")\n",
    "percentages <- as.table(percentages)\n",
    "\n",
    "barplot(percentages, col=c(\"chocolate\", \"forestgreen\", \"dodgerblue4\"),\n",
    "    legend = rownames(percentages), beside=TRUE, xlab=\"alive\", ylab=\"percentage\"\n",
    ")"
   ]
  },
  {
   "cell_type": "markdown",
   "metadata": {},
   "source": [
    "### 4. Begründe anhand der quantitativen Ergebnisse, ob Frauen und Kinder zuerst bei der Seenotrettung berücksichtigt wurden."
   ]
  },
  {
   "cell_type": "code",
   "execution_count": 9,
   "metadata": {},
   "outputs": [
    {
     "data": {
      "image/png": "[encoded data removed]",
      "text/plain": [
       "plot without title"
      ]
     },
     "metadata": {},
     "output_type": "display_data"
    },
    {
     "data": {
      "image/png": "[encoded data removed]",
      "text/plain": [
       "plot without title"
      ]
     },
     "metadata": {},
     "output_type": "display_data"
    }
   ],
   "source": [
    "# Form a table with columns class and rows alive\n",
    "counts <- table(ti$who, ti$survived)\n",
    "# Order like seaborn: https://stackoverflow.com/a/56808968\n",
    "barplot(counts, col=c(\"chocolate\", \"forestgreen\", \"dodgerblue4\"),\n",
    "    legend = rownames(counts), beside=TRUE, xlab=\"alive\", ylab=\"count\"\n",
    ")\n",
    "\n",
    "# Make a table from matrix \n",
    "# https://www.dummies.com/programming/r/how-to-create-a-two-way-data-table-with-r/\n",
    "percentages <- matrix(c(\n",
    "    length(ti$who[ti$who==\"child\" & ti$survived==\"no\"]) / length(ti$who[ti$who==\"child\"]),\n",
    "    length(ti$who[ti$who==\"man\" & ti$survived==\"no\"]) / length(ti$who[ti$who==\"man\"]),\n",
    "    length(ti$who[ti$who==\"woman\" & ti$survived==\"no\"]) / length(ti$who[ti$who==\"woman\"]),\n",
    "    length(ti$who[ti$who==\"child\" & ti$survived==\"yes\"]) / length(ti$who[ti$who==\"child\"]),\n",
    "    length(ti$who[ti$who==\"man\" & ti$survived==\"yes\"]) / length(ti$who[ti$who==\"man\"]),\n",
    "    length(ti$who[ti$who==\"woman\" & ti$survived==\"yes\"]) / length(ti$who[ti$who==\"woman\"])\n",
    "), ncol=2)\n",
    "colnames(percentages) <- c(\"no\", \"yes\")\n",
    "rownames(percentages) <- c(\"child\", \"man\", \"woman\")\n",
    "percentages <- as.table(percentages)\n",
    "barplot(percentages, col=c(\"chocolate\", \"forestgreen\", \"dodgerblue4\"),\n",
    "    beside=TRUE, xlab=\"alive\", ylab=\"percentage\"\n",
    ")\n",
    "legend(\"bottomleft\", legend=rownames(percentages), fill=c(\"chocolate\", \"forestgreen\", \"dodgerblue4\"))\n"
   ]
  },
  {
   "cell_type": "markdown",
   "metadata": {},
   "source": [
    "Frauen haben die höchste Überlebensrate, somit ist die Vermutung, dass diese zuerst bei der Rettung berücksichtigt wurden, ziemlich nahe liegend. Für Kinder wird dies wahrscheinlich auch zutreffen, jedoch sind Kinder, vorallem Kleinkinder, auf die Hilfe anderer angewiesen, weil sie z.B. nicht schwimmen können, was ihre Überlebensrate drastisch reduziert."
   ]
  },
  {
   "cell_type": "markdown",
   "metadata": {},
   "source": [
    "### 5. Erkläre, wo sich Anzeichen für Simpson's Paradoxon finden lassen."
   ]
  },
  {
   "cell_type": "markdown",
   "metadata": {},
   "source": [
    "Betrachtet man die Überlebensrate der verschiedenen Klassen und der Crew gesondert an, erkennt man, dass die Überlebensrate der dritten Passagier-Klasse nur leicht über der der Crew ist."
   ]
  },
  {
   "cell_type": "code",
   "execution_count": 10,
   "metadata": {},
   "outputs": [
    {
     "data": {
      "text/plain": [
       "         alive\n",
       "1st  0.6203704\n",
       "2nd  0.4154930\n",
       "3rd  0.2552891\n",
       "crew 0.2370787"
      ]
     },
     "metadata": {},
     "output_type": "display_data"
    },
    {
     "data": {
      "image/png": "[encoded data removed]",
      "text/plain": [
       "plot without title"
      ]
     },
     "metadata": {},
     "output_type": "display_data"
    }
   ],
   "source": [
    "percentages <- matrix(c(\n",
    "    length(ti$survived[ti$survived==\"yes\" & ti$class==\"1st\"]) /\n",
    "                   length(ti$survived[ti$class==\"1st\"]),\n",
    "    length(ti$survived[ti$survived==\"yes\" & ti$class==\"2nd\"]) /\n",
    "                   length(ti$survived[ti$class==\"2nd\"]),\n",
    "    length(ti$survived[ti$survived==\"yes\" & ti$class==\"3rd\"]) /\n",
    "                   length(ti$survived[ti$class==\"3rd\"]),\n",
    "    length(ti$survived[ti$survived==\"yes\" & (grepl(\"crew\", ti$class) | grepl(\"staff\", ti$class))]) /\n",
    "                   length(ti$survived[grepl(\"crew\", ti$class) | grepl(\"staff\", ti$class)])  \n",
    "), ncol=1)\n",
    "rownames(percentages) <- c(\"1st\", \"2nd\", \"3rd\", \"crew\")\n",
    "colnames(percentages) <- c(\"alive\")\n",
    "\n",
    "percentages <- as.table(percentages)\n",
    "percentages\n",
    "\n",
    "barplot(percentages, col=c(\"salmon\", \"chocolate\", \"forestgreen\", \"dodgerblue4\"),\n",
    "    legend = rownames(percentages), beside=TRUE, ylab=\"percentage\"\n",
    ")"
   ]
  },
  {
   "cell_type": "markdown",
   "metadata": {},
   "source": [
    "Wenn man jedoch die Überlebensrate der dritten Klasse und Crew auf Geschlecht aufteilt, fällt einem auf, dass in beiden Fällen die Crew auf einmal die besseren Überlebensrate besitzt."
   ]
  },
  {
   "cell_type": "code",
   "execution_count": 11,
   "metadata": {},
   "outputs": [
    {
     "data": {
      "text/plain": [
       "                alive\n",
       "Third Class 0.1521298\n",
       "Crew        0.2202999"
      ]
     },
     "metadata": {},
     "output_type": "display_data"
    },
    {
     "data": {
      "image/png": "[encoded data removed]",
      "text/plain": [
       "plot without title"
      ]
     },
     "metadata": {},
     "output_type": "display_data"
    }
   ],
   "source": [
    "male <- matrix(c(\n",
    "    length(ti$survived[ti$survived==\"yes\" & ti$class==\"3rd\" & ti$gender==\"male\"]) /\n",
    "        length(ti$survived[ti$gender==\"male\" & ti$class==\"3rd\"]),\n",
    "    length(ti$survived[ti$survived==\"yes\" & ti$gender==\"male\" & (grepl(\"crew\", ti$class) | grepl(\"staff\", ti$class))]) /\n",
    "        length(ti$survived[ti$gender==\"male\" & (grepl(\"crew\", ti$class) | grepl(\"staff\", ti$class))])\n",
    "))\n",
    "rownames(male) <- c(\"Third Class\", \"Crew\")\n",
    "colnames(male) <- c(\"alive\")\n",
    "male <- as.table(male)\n",
    "male\n",
    "\n",
    "barplot(male, col=c(\"forestgreen\", \"dodgerblue4\"),\n",
    "    legend = rownames(male), beside=TRUE, ylab=\"percentage\"\n",
    ")"
   ]
  },
  {
   "cell_type": "code",
   "execution_count": 12,
   "metadata": {},
   "outputs": [
    {
     "data": {
      "text/plain": [
       "                alive\n",
       "Third Class 0.4907407\n",
       "Crew        0.8695652"
      ]
     },
     "metadata": {},
     "output_type": "display_data"
    },
    {
     "data": {
      "image/png": "[encoded data removed]",
      "text/plain": [
       "plot without title"
      ]
     },
     "metadata": {},
     "output_type": "display_data"
    }
   ],
   "source": [
    "female <- matrix(c(\n",
    "    length(ti$survived[ti$survived==\"yes\" & ti$class==\"3rd\" & ti$gender==\"female\"]) /\n",
    "        length(ti$survived[ti$gender==\"female\" & ti$class==\"3rd\"]),\n",
    "    length(ti$survived[ti$survived==\"yes\" & ti$gender==\"female\" & (grepl(\"crew\", ti$class) | grepl(\"staff\", ti$class))]) /\n",
    "        length(ti$survived[ti$gender==\"female\" & (grepl(\"crew\", ti$class) | grepl(\"staff\", ti$class))])\n",
    "))\n",
    "rownames(female) <- c(\"Third Class\", \"Crew\")\n",
    "colnames(female) <- c(\"alive\")\n",
    "female <- as.table(female)\n",
    "female\n",
    "\n",
    "barplot(female, col=c(\"forestgreen\", \"dodgerblue4\"),\n",
    "    legend = rownames(female), beside=TRUE, ylab=\"percentage\"\n",
    ")"
   ]
  },
  {
   "cell_type": "code",
   "execution_count": 13,
   "metadata": {},
   "outputs": [
    {
     "data": {
      "text/plain": [
       "            Male Survived Male Died Female Survived Female Died\n",
       "Third Class            75       418             106         110\n",
       "Crew                  191       676              20           3"
      ]
     },
     "metadata": {},
     "output_type": "display_data"
    }
   ],
   "source": [
    "full <- matrix(c(\n",
    "    length(ti$survived[ti$survived==\"yes\" & ti$class==\"3rd\" & ti$gender==\"male\"]),\n",
    "    length(ti$survived[ti$survived==\"yes\" & ti$gender==\"male\" & (grepl(\"crew\", ti$class) | grepl(\"staff\", ti$class))]),\n",
    "    length(ti$survived[ti$survived==\"no\" & ti$class==\"3rd\" & ti$gender==\"male\"]),\n",
    "    length(ti$survived[ti$survived==\"no\" & ti$gender==\"male\" & (grepl(\"crew\", ti$class) | grepl(\"staff\", ti$class))]),\n",
    "    length(ti$survived[ti$survived==\"yes\" & ti$class==\"3rd\" & ti$gender==\"female\"]),\n",
    "    length(ti$survived[ti$survived==\"yes\" & ti$gender==\"female\" & (grepl(\"crew\", ti$class) | grepl(\"staff\", ti$class))]),\n",
    "    length(ti$survived[ti$survived==\"no\" & ti$class==\"3rd\" & ti$gender==\"female\"]),\n",
    "    length(ti$survived[ti$survived==\"no\" & ti$gender==\"female\" & (grepl(\"crew\", ti$class) | grepl(\"staff\", ti$class))])\n",
    "), ncol=4)\n",
    "rownames(full) <- c(\"Third Class\", \"Crew\")\n",
    "colnames(full) <- c(\"Male Survived\", \"Male Died\", \"Female Survived\", \"Female Died\")\n",
    "full <- as.table(full)\n",
    "full\n",
    " "
   ]
  },
  {
   "cell_type": "markdown",
   "metadata": {},
   "source": [
    "Man sieht, dass es absolut mehr Männer in der Crew gab als in der dritten Klasse. Umgekehrt verhält sich dies bei den Frauen. \n",
    "\n",
    "Da Männer allgemein eine schlechtere Überlebensrate als Frauen hatten und die Crew hauptächlich aus Männer bestand, ergab sich der Eindruck, dass die Crew eine schlechtere Überlebensrate als die Passagiere der dritten Klasse hatte. \n",
    "\n",
    "Vergleicht man die Daten auf Männer und Frauen aufgeteilt, so erhält man ein anderes Bild.\n",
    "Dieses Paradoxon, bei dem die Wahrscheinlichkeit verschieden ausfällt, je nachdem man die Werte gruppiert oder nicht betrachtet, nennt man Simpson-Paradoxon. {% cite simpson %}\n"
   ]
  },
  {
   "cell_type": "markdown",
   "metadata": {},
   "source": [
    "### 6. Lade den Datensatz 'state.x77' in R. Beschreibe die Daten anhand der internen Hilfe."
   ]
  },
  {
   "cell_type": "code",
   "execution_count": 14,
   "metadata": {},
   "outputs": [
    {
     "data": {
      "text/html": [
       "\n",
       "<table width=\"100%\" summary=\"page for state {datasets}\"><tr><td>state {datasets}</td><td style=\"text-align: right;\">R Documentation</td></tr></table>\n",
       "\n",
       "<h2>US State Facts and Figures</h2>\n",
       "\n",
       "<h3>Description</h3>\n",
       "\n",
       "<p>Data sets related to the 50 states of the United States of\n",
       "America.</p>\n",
       "\n",
       "\n",
       "<h3>Usage</h3>\n",
       "\n",
       "<pre>\n",
       "state.abb\n",
       "state.area\n",
       "state.center\n",
       "state.division\n",
       "state.name\n",
       "state.region\n",
       "state.x77\n",
       "</pre>\n",
       "\n",
       "\n",
       "<h3>Details</h3>\n",
       "\n",
       "<p><span style=\"font-family: Courier New, Courier; color: #666666;\"><b>R</b></span> currently contains the following &ldquo;state&rdquo; data sets.  Note\n",
       "that all data are arranged according to alphabetical order of the\n",
       "state names.\n",
       "</p>\n",
       "\n",
       "<dl>\n",
       "<dt><code>state.abb</code>:</dt><dd><p>character vector of 2-letter abbreviations\n",
       "for the state names.</p>\n",
       "</dd>\n",
       "<dt><code>state.area</code>:</dt><dd><p>numeric vector of state areas (in square\n",
       "miles).</p>\n",
       "</dd>\n",
       "<dt><code>state.center</code>:</dt><dd><p> list with components named <code>x</code> and\n",
       "<code>y</code> giving the approximate geographic center of each state in\n",
       "negative longitude and latitude.  Alaska and Hawaii are placed\n",
       "just off the West Coast.</p>\n",
       "</dd>\n",
       "<dt><code>state.division</code>:</dt><dd><p>factor giving state divisions (New\n",
       "England, Middle Atlantic, South Atlantic, East South Central, West\n",
       "South Central, East North Central, West North Central, Mountain,\n",
       "and Pacific).</p>\n",
       "</dd>\n",
       "<dt><code>state.name</code>:</dt><dd><p>character vector giving the full state\n",
       "names.</p>\n",
       "</dd>\n",
       "<dt><code>state.region</code>:</dt><dd><p>factor giving the region (Northeast,\n",
       "South, North Central, West) that each state belongs to.</p>\n",
       "</dd>\n",
       "<dt><code>state.x77</code>:</dt><dd><p>matrix with 50 rows and 8 columns giving\n",
       "the following statistics in the respective columns.\n",
       "</p>\n",
       "\n",
       "<dl>\n",
       "<dt><code>Population</code>:</dt><dd><p>population estimate as of July 1,\n",
       "1975</p>\n",
       "</dd>\n",
       "<dt><code>Income</code>:</dt><dd><p>per capita income (1974)</p>\n",
       "</dd>\n",
       "<dt><code>Illiteracy</code>:</dt><dd><p>illiteracy (1970, percent of\n",
       "population)</p>\n",
       "</dd>\n",
       "<dt><code>Life Exp</code>:</dt><dd><p>life expectancy in years (1969&ndash;71)</p>\n",
       "</dd>\n",
       "<dt><code>Murder</code>:</dt><dd><p>murder and non-negligent manslaughter rate\n",
       "per 100,000 population (1976)</p>\n",
       "</dd>\n",
       "<dt><code>HS Grad</code>:</dt><dd><p>percent high-school graduates (1970)</p>\n",
       "</dd>\n",
       "<dt><code>Frost</code>:</dt><dd><p>mean number of days with minimum\n",
       "temperature below freezing (1931&ndash;1960) in capital or large\n",
       "city</p>\n",
       "</dd>\n",
       "<dt><code>Area</code>:</dt><dd><p>land area in square miles</p>\n",
       "</dd>\n",
       "</dl>\n",
       "</dd>\n",
       "</dl>\n",
       "\n",
       "\n",
       "\n",
       "<h3>Source</h3>\n",
       "\n",
       "<p>U.S. Department of Commerce, Bureau of the Census (1977)\n",
       "<em>Statistical Abstract of the United States</em>.\n",
       "</p>\n",
       "<p>U.S. Department of Commerce, Bureau of the Census (1977)\n",
       "<em>County and City Data Book</em>.\n",
       "</p>\n",
       "\n",
       "\n",
       "<h3>References</h3>\n",
       "\n",
       "<p>Becker, R. A., Chambers, J. M. and Wilks, A. R. (1988)\n",
       "<em>The New S Language</em>.\n",
       "Wadsworth &amp; Brooks/Cole.\n",
       "</p>\n",
       "\n",
       "<hr /><div style=\"text-align: center;\">[Package <em>datasets</em> version 3.6.1 ]</div>"
      ],
      "text/latex": [
       "\\inputencoding{utf8}\n",
       "\\HeaderA{state}{US State Facts and Figures}{state}\n",
       "\\methaliasA{state.abb}{state}{state.abb}\n",
       "\\methaliasA{state.area}{state}{state.area}\n",
       "\\methaliasA{state.center}{state}{state.center}\n",
       "\\methaliasA{state.division}{state}{state.division}\n",
       "\\methaliasA{state.name}{state}{state.name}\n",
       "\\methaliasA{state.region}{state}{state.region}\n",
       "\\methaliasA{state.x77}{state}{state.x77}\n",
       "\\keyword{datasets}{state}\n",
       "%\n",
       "\\begin{Description}\\relax\n",
       "Data sets related to the 50 states of the United States of\n",
       "America.\n",
       "\\end{Description}\n",
       "%\n",
       "\\begin{Usage}\n",
       "\\begin{verbatim}\n",
       "state.abb\n",
       "state.area\n",
       "state.center\n",
       "state.division\n",
       "state.name\n",
       "state.region\n",
       "state.x77\n",
       "\\end{verbatim}\n",
       "\\end{Usage}\n",
       "%\n",
       "\\begin{Details}\\relax\n",
       "\\R{} currently contains the following ``state'' data sets.  Note\n",
       "that all data are arranged according to alphabetical order of the\n",
       "state names.\n",
       "\\begin{description}\n",
       "\n",
       "\\item[\\code{state.abb}:] character vector of 2-letter abbreviations\n",
       "for the state names.\n",
       "\\item[\\code{state.area}:] numeric vector of state areas (in square\n",
       "miles).\n",
       "\\item[\\code{state.center}:]  list with components named \\code{x} and\n",
       "\\code{y} giving the approximate geographic center of each state in\n",
       "negative longitude and latitude.  Alaska and Hawaii are placed\n",
       "just off the West Coast.\n",
       "\\item[\\code{state.division}:] factor giving state divisions (New\n",
       "England, Middle Atlantic, South Atlantic, East South Central, West\n",
       "South Central, East North Central, West North Central, Mountain,\n",
       "and Pacific).\n",
       "\\item[\\code{state.name}:] character vector giving the full state\n",
       "names.\n",
       "\\item[\\code{state.region}:] factor giving the region (Northeast,\n",
       "South, North Central, West) that each state belongs to.\n",
       "\\item[\\code{state.x77}:] matrix with 50 rows and 8 columns giving\n",
       "the following statistics in the respective columns.\n",
       "\\begin{description}\n",
       "\n",
       "\\item[\\code{Population}:] population estimate as of July 1,\n",
       "1975\n",
       "\\item[\\code{Income}:] per capita income (1974)\n",
       "\\item[\\code{Illiteracy}:] illiteracy (1970, percent of\n",
       "population)\n",
       "\\item[\\code{Life Exp}:] life expectancy in years (1969--71)\n",
       "\\item[\\code{Murder}:] murder and non-negligent manslaughter rate\n",
       "per 100,000 population (1976)\n",
       "\\item[\\code{HS Grad}:] percent high-school graduates (1970)\n",
       "\\item[\\code{Frost}:] mean number of days with minimum\n",
       "temperature below freezing (1931--1960) in capital or large\n",
       "city\n",
       "\\item[\\code{Area}:] land area in square miles\n",
       "\n",
       "\\end{description}\n",
       "\n",
       "\n",
       "\\end{description}\n",
       "\n",
       "\\end{Details}\n",
       "%\n",
       "\\begin{Source}\\relax\n",
       "U.S. Department of Commerce, Bureau of the Census (1977)\n",
       "\\emph{Statistical Abstract of the United States}.\n",
       "\n",
       "U.S. Department of Commerce, Bureau of the Census (1977)\n",
       "\\emph{County and City Data Book}.\n",
       "\\end{Source}\n",
       "%\n",
       "\\begin{References}\\relax\n",
       "Becker, R. A., Chambers, J. M. and Wilks, A. R. (1988)\n",
       "\\emph{The New S Language}.\n",
       "Wadsworth \\& Brooks/Cole.\n",
       "\\end{References}"
      ],
      "text/plain": [
       "state                 package:datasets                 R Documentation\n",
       "\n",
       "_\bU_\bS _\bS_\bt_\ba_\bt_\be _\bF_\ba_\bc_\bt_\bs _\ba_\bn_\bd _\bF_\bi_\bg_\bu_\br_\be_\bs\n",
       "\n",
       "_\bD_\be_\bs_\bc_\br_\bi_\bp_\bt_\bi_\bo_\bn:\n",
       "\n",
       "     Data sets related to the 50 states of the United States of\n",
       "     America.\n",
       "\n",
       "_\bU_\bs_\ba_\bg_\be:\n",
       "\n",
       "     state.abb\n",
       "     state.area\n",
       "     state.center\n",
       "     state.division\n",
       "     state.name\n",
       "     state.region\n",
       "     state.x77\n",
       "     \n",
       "_\bD_\be_\bt_\ba_\bi_\bl_\bs:\n",
       "\n",
       "     R currently contains the following \"state\" data sets.  Note that\n",
       "     all data are arranged according to alphabetical order of the state\n",
       "     names.\n",
       "\n",
       "     'state.abb': character vector of 2-letter abbreviations for the\n",
       "          state names.\n",
       "\n",
       "     'state.area': numeric vector of state areas (in square miles).\n",
       "\n",
       "     'state.center': list with components named 'x' and 'y' giving the\n",
       "          approximate geographic center of each state in negative\n",
       "          longitude and latitude.  Alaska and Hawaii are placed just\n",
       "          off the West Coast.\n",
       "\n",
       "     'state.division': factor giving state divisions (New England,\n",
       "          Middle Atlantic, South Atlantic, East South Central, West\n",
       "          South Central, East North Central, West North Central,\n",
       "          Mountain, and Pacific).\n",
       "\n",
       "     'state.name': character vector giving the full state names.\n",
       "\n",
       "     'state.region': factor giving the region (Northeast, South, North\n",
       "          Central, West) that each state belongs to.\n",
       "\n",
       "     'state.x77': matrix with 50 rows and 8 columns giving the\n",
       "          following statistics in the respective columns.\n",
       "\n",
       "          'Population': population estimate as of July 1, 1975\n",
       "\n",
       "          'Income': per capita income (1974)\n",
       "\n",
       "          'Illiteracy': illiteracy (1970, percent of population)\n",
       "\n",
       "          'Life Exp': life expectancy in years (1969-71)\n",
       "\n",
       "          'Murder': murder and non-negligent manslaughter rate per\n",
       "              100,000 population (1976)\n",
       "\n",
       "          'HS Grad': percent high-school graduates (1970)\n",
       "\n",
       "          'Frost': mean number of days with minimum temperature below\n",
       "              freezing (1931-1960) in capital or large city\n",
       "\n",
       "          'Area': land area in square miles\n",
       "\n",
       "_\bS_\bo_\bu_\br_\bc_\be:\n",
       "\n",
       "     U.S. Department of Commerce, Bureau of the Census (1977)\n",
       "     _Statistical Abstract of the United States_.\n",
       "\n",
       "     U.S. Department of Commerce, Bureau of the Census (1977) _County\n",
       "     and City Data Book_.\n",
       "\n",
       "_\bR_\be_\bf_\be_\br_\be_\bn_\bc_\be_\bs:\n",
       "\n",
       "     Becker, R. A., Chambers, J. M. and Wilks, A. R. (1988) _The New S\n",
       "     Language_.  Wadsworth & Brooks/Cole.\n"
      ]
     },
     "metadata": {},
     "output_type": "display_data"
    }
   ],
   "source": [
    "?state.x77"
   ]
  },
  {
   "cell_type": "code",
   "execution_count": 52,
   "metadata": {},
   "outputs": [
    {
     "data": {
      "text/html": [
       "<dl class=dl-horizontal>\n",
       "\t<dt>Alabama</dt>\n",
       "\t\t<dd>3615</dd>\n",
       "\t<dt>Alaska</dt>\n",
       "\t\t<dd>365</dd>\n",
       "\t<dt>Arizona</dt>\n",
       "\t\t<dd>2212</dd>\n",
       "\t<dt>Arkansas</dt>\n",
       "\t\t<dd>2110</dd>\n",
       "\t<dt>California</dt>\n",
       "\t\t<dd>21198</dd>\n",
       "\t<dt>Colorado</dt>\n",
       "\t\t<dd>2541</dd>\n",
       "</dl>\n"
      ],
      "text/latex": [
       "\\begin{description*}\n",
       "\\item[Alabama] 3615\n",
       "\\item[Alaska] 365\n",
       "\\item[Arizona] 2212\n",
       "\\item[Arkansas] 2110\n",
       "\\item[California] 21198\n",
       "\\item[Colorado] 2541\n",
       "\\end{description*}\n"
      ],
      "text/markdown": [
       "Alabama\n",
       ":   3615Alaska\n",
       ":   365Arizona\n",
       ":   2212Arkansas\n",
       ":   2110California\n",
       ":   21198Colorado\n",
       ":   2541\n",
       "\n"
      ],
      "text/plain": [
       "   Alabama     Alaska    Arizona   Arkansas California   Colorado \n",
       "      3615        365       2212       2110      21198       2541 "
      ]
     },
     "metadata": {},
     "output_type": "display_data"
    },
    {
     "data": {
      "text/html": [
       "<dl class=dl-horizontal>\n",
       "\t<dt>Alabama</dt>\n",
       "\t\t<dd>3624</dd>\n",
       "\t<dt>Alaska</dt>\n",
       "\t\t<dd>6315</dd>\n",
       "\t<dt>Arizona</dt>\n",
       "\t\t<dd>4530</dd>\n",
       "\t<dt>Arkansas</dt>\n",
       "\t\t<dd>3378</dd>\n",
       "\t<dt>California</dt>\n",
       "\t\t<dd>5114</dd>\n",
       "\t<dt>Colorado</dt>\n",
       "\t\t<dd>4884</dd>\n",
       "</dl>\n"
      ],
      "text/latex": [
       "\\begin{description*}\n",
       "\\item[Alabama] 3624\n",
       "\\item[Alaska] 6315\n",
       "\\item[Arizona] 4530\n",
       "\\item[Arkansas] 3378\n",
       "\\item[California] 5114\n",
       "\\item[Colorado] 4884\n",
       "\\end{description*}\n"
      ],
      "text/markdown": [
       "Alabama\n",
       ":   3624Alaska\n",
       ":   6315Arizona\n",
       ":   4530Arkansas\n",
       ":   3378California\n",
       ":   5114Colorado\n",
       ":   4884\n",
       "\n"
      ],
      "text/plain": [
       "   Alabama     Alaska    Arizona   Arkansas California   Colorado \n",
       "      3624       6315       4530       3378       5114       4884 "
      ]
     },
     "metadata": {},
     "output_type": "display_data"
    },
    {
     "data": {
      "text/html": [
       "<dl class=dl-horizontal>\n",
       "\t<dt>Alabama</dt>\n",
       "\t\t<dd>2.1</dd>\n",
       "\t<dt>Alaska</dt>\n",
       "\t\t<dd>1.5</dd>\n",
       "\t<dt>Arizona</dt>\n",
       "\t\t<dd>1.8</dd>\n",
       "\t<dt>Arkansas</dt>\n",
       "\t\t<dd>1.9</dd>\n",
       "\t<dt>California</dt>\n",
       "\t\t<dd>1.1</dd>\n",
       "\t<dt>Colorado</dt>\n",
       "\t\t<dd>0.7</dd>\n",
       "</dl>\n"
      ],
      "text/latex": [
       "\\begin{description*}\n",
       "\\item[Alabama] 2.1\n",
       "\\item[Alaska] 1.5\n",
       "\\item[Arizona] 1.8\n",
       "\\item[Arkansas] 1.9\n",
       "\\item[California] 1.1\n",
       "\\item[Colorado] 0.7\n",
       "\\end{description*}\n"
      ],
      "text/markdown": [
       "Alabama\n",
       ":   2.1Alaska\n",
       ":   1.5Arizona\n",
       ":   1.8Arkansas\n",
       ":   1.9California\n",
       ":   1.1Colorado\n",
       ":   0.7\n",
       "\n"
      ],
      "text/plain": [
       "   Alabama     Alaska    Arizona   Arkansas California   Colorado \n",
       "       2.1        1.5        1.8        1.9        1.1        0.7 "
      ]
     },
     "metadata": {},
     "output_type": "display_data"
    },
    {
     "data": {
      "text/html": [
       "<dl class=dl-horizontal>\n",
       "\t<dt>Alabama</dt>\n",
       "\t\t<dd>69.05</dd>\n",
       "\t<dt>Alaska</dt>\n",
       "\t\t<dd>69.31</dd>\n",
       "\t<dt>Arizona</dt>\n",
       "\t\t<dd>70.55</dd>\n",
       "\t<dt>Arkansas</dt>\n",
       "\t\t<dd>70.66</dd>\n",
       "\t<dt>California</dt>\n",
       "\t\t<dd>71.71</dd>\n",
       "\t<dt>Colorado</dt>\n",
       "\t\t<dd>72.06</dd>\n",
       "</dl>\n"
      ],
      "text/latex": [
       "\\begin{description*}\n",
       "\\item[Alabama] 69.05\n",
       "\\item[Alaska] 69.31\n",
       "\\item[Arizona] 70.55\n",
       "\\item[Arkansas] 70.66\n",
       "\\item[California] 71.71\n",
       "\\item[Colorado] 72.06\n",
       "\\end{description*}\n"
      ],
      "text/markdown": [
       "Alabama\n",
       ":   69.05Alaska\n",
       ":   69.31Arizona\n",
       ":   70.55Arkansas\n",
       ":   70.66California\n",
       ":   71.71Colorado\n",
       ":   72.06\n",
       "\n"
      ],
      "text/plain": [
       "   Alabama     Alaska    Arizona   Arkansas California   Colorado \n",
       "     69.05      69.31      70.55      70.66      71.71      72.06 "
      ]
     },
     "metadata": {},
     "output_type": "display_data"
    },
    {
     "data": {
      "text/html": [
       "<dl class=dl-horizontal>\n",
       "\t<dt>Alabama</dt>\n",
       "\t\t<dd>15.1</dd>\n",
       "\t<dt>Alaska</dt>\n",
       "\t\t<dd>11.3</dd>\n",
       "\t<dt>Arizona</dt>\n",
       "\t\t<dd>7.8</dd>\n",
       "\t<dt>Arkansas</dt>\n",
       "\t\t<dd>10.1</dd>\n",
       "\t<dt>California</dt>\n",
       "\t\t<dd>10.3</dd>\n",
       "\t<dt>Colorado</dt>\n",
       "\t\t<dd>6.8</dd>\n",
       "</dl>\n"
      ],
      "text/latex": [
       "\\begin{description*}\n",
       "\\item[Alabama] 15.1\n",
       "\\item[Alaska] 11.3\n",
       "\\item[Arizona] 7.8\n",
       "\\item[Arkansas] 10.1\n",
       "\\item[California] 10.3\n",
       "\\item[Colorado] 6.8\n",
       "\\end{description*}\n"
      ],
      "text/markdown": [
       "Alabama\n",
       ":   15.1Alaska\n",
       ":   11.3Arizona\n",
       ":   7.8Arkansas\n",
       ":   10.1California\n",
       ":   10.3Colorado\n",
       ":   6.8\n",
       "\n"
      ],
      "text/plain": [
       "   Alabama     Alaska    Arizona   Arkansas California   Colorado \n",
       "      15.1       11.3        7.8       10.1       10.3        6.8 "
      ]
     },
     "metadata": {},
     "output_type": "display_data"
    }
   ],
   "source": [
    "# Combine Data to one table\n",
    "# Source: https://stackoverflow.com/a/46416845\n",
    "mystate <- as.data.frame(state.x77)\n",
    "# head(mystate)\n",
    "head(state.x77[,'Population'])\n",
    "# Alternative call: head(mystate$Population)\n",
    "head(state.x77[,'Income'])\n",
    "head(state.x77[,'Illiteracy'])\n",
    "head(state.x77[,'Life Exp'])\n",
    "head(state.x77[,'Murder'])"
   ]
  },
  {
   "cell_type": "markdown",
   "metadata": {},
   "source": [
    "Was kann man aus den Daten schließen? Es handelt sich um rationale und numerische Werte. \n",
    "\n",
    "Was mir aber aufgefallen ist, dass die Werte für die Bevölkerung nicht wirklich definiert sind. Es lebten sicher nicht 3615 Personen im Staat Alabama im Jahr 1977, auch kann ich mir nicht vorstellen, dass die Bevölkerung um diese Personenanzahl gestiegen ist. Beim Vergleich mit den Daten die Google mit der Suchanfrage `alabama population 1977` zurückgab, habe ich den Schluss gezogen, dass die Bevölkerungszahl durch 1000 die Bevölkerung in Millionen angibt."
   ]
  },
  {
   "cell_type": "code",
   "execution_count": 61,
   "metadata": {},
   "outputs": [
    {
     "data": {
      "text/html": [
       "<table>\n",
       "<thead><tr><th></th><th scope=col>Population</th><th scope=col>Income</th><th scope=col>Illiteracy</th><th scope=col>Life Exp</th><th scope=col>Murder</th><th scope=col>HS Grad</th><th scope=col>Frost</th><th scope=col>Area</th><th scope=col>mpopulation</th><th scope=col>PopulationMil</th></tr></thead>\n",
       "<tbody>\n",
       "\t<tr><th scope=row>Alabama</th><td> 3615 </td><td>3624  </td><td>2.1   </td><td>69.05 </td><td>15.1  </td><td>41.3  </td><td> 20   </td><td> 50708</td><td> 3.615</td><td> 3.615</td></tr>\n",
       "\t<tr><th scope=row>Alaska</th><td>  365 </td><td>6315  </td><td>1.5   </td><td>69.31 </td><td>11.3  </td><td>66.7  </td><td>152   </td><td>566432</td><td> 0.365</td><td> 0.365</td></tr>\n",
       "\t<tr><th scope=row>Arizona</th><td> 2212 </td><td>4530  </td><td>1.8   </td><td>70.55 </td><td> 7.8  </td><td>58.1  </td><td> 15   </td><td>113417</td><td> 2.212</td><td> 2.212</td></tr>\n",
       "\t<tr><th scope=row>Arkansas</th><td> 2110 </td><td>3378  </td><td>1.9   </td><td>70.66 </td><td>10.1  </td><td>39.9  </td><td> 65   </td><td> 51945</td><td> 2.110</td><td> 2.110</td></tr>\n",
       "\t<tr><th scope=row>California</th><td>21198 </td><td>5114  </td><td>1.1   </td><td>71.71 </td><td>10.3  </td><td>62.6  </td><td> 20   </td><td>156361</td><td>21.198</td><td>21.198</td></tr>\n",
       "\t<tr><th scope=row>Colorado</th><td> 2541 </td><td>4884  </td><td>0.7   </td><td>72.06 </td><td> 6.8  </td><td>63.9  </td><td>166   </td><td>103766</td><td> 2.541</td><td> 2.541</td></tr>\n",
       "</tbody>\n",
       "</table>\n"
      ],
      "text/latex": [
       "\\begin{tabular}{r|llllllllll}\n",
       "  & Population & Income & Illiteracy & Life Exp & Murder & HS Grad & Frost & Area & mpopulation & PopulationMil\\\\\n",
       "\\hline\n",
       "\tAlabama &  3615  & 3624   & 2.1    & 69.05  & 15.1   & 41.3   &  20    &  50708 &  3.615 &  3.615\\\\\n",
       "\tAlaska &   365  & 6315   & 1.5    & 69.31  & 11.3   & 66.7   & 152    & 566432 &  0.365 &  0.365\\\\\n",
       "\tArizona &  2212  & 4530   & 1.8    & 70.55  &  7.8   & 58.1   &  15    & 113417 &  2.212 &  2.212\\\\\n",
       "\tArkansas &  2110  & 3378   & 1.9    & 70.66  & 10.1   & 39.9   &  65    &  51945 &  2.110 &  2.110\\\\\n",
       "\tCalifornia & 21198  & 5114   & 1.1    & 71.71  & 10.3   & 62.6   &  20    & 156361 & 21.198 & 21.198\\\\\n",
       "\tColorado &  2541  & 4884   & 0.7    & 72.06  &  6.8   & 63.9   & 166    & 103766 &  2.541 &  2.541\\\\\n",
       "\\end{tabular}\n"
      ],
      "text/markdown": [
       "\n",
       "| <!--/--> | Population | Income | Illiteracy | Life Exp | Murder | HS Grad | Frost | Area | mpopulation | PopulationMil |\n",
       "|---|---|---|---|---|---|---|---|---|---|---|\n",
       "| Alabama |  3615  | 3624   | 2.1    | 69.05  | 15.1   | 41.3   |  20    |  50708 |  3.615 |  3.615 |\n",
       "| Alaska |   365  | 6315   | 1.5    | 69.31  | 11.3   | 66.7   | 152    | 566432 |  0.365 |  0.365 |\n",
       "| Arizona |  2212  | 4530   | 1.8    | 70.55  |  7.8   | 58.1   |  15    | 113417 |  2.212 |  2.212 |\n",
       "| Arkansas |  2110  | 3378   | 1.9    | 70.66  | 10.1   | 39.9   |  65    |  51945 |  2.110 |  2.110 |\n",
       "| California | 21198  | 5114   | 1.1    | 71.71  | 10.3   | 62.6   |  20    | 156361 | 21.198 | 21.198 |\n",
       "| Colorado |  2541  | 4884   | 0.7    | 72.06  |  6.8   | 63.9   | 166    | 103766 |  2.541 |  2.541 |\n",
       "\n"
      ],
      "text/plain": [
       "           Population Income Illiteracy Life Exp Murder HS Grad Frost Area  \n",
       "Alabama     3615      3624   2.1        69.05    15.1   41.3     20    50708\n",
       "Alaska       365      6315   1.5        69.31    11.3   66.7    152   566432\n",
       "Arizona     2212      4530   1.8        70.55     7.8   58.1     15   113417\n",
       "Arkansas    2110      3378   1.9        70.66    10.1   39.9     65    51945\n",
       "California 21198      5114   1.1        71.71    10.3   62.6     20   156361\n",
       "Colorado    2541      4884   0.7        72.06     6.8   63.9    166   103766\n",
       "           mpopulation PopulationMil\n",
       "Alabama     3.615       3.615       \n",
       "Alaska      0.365       0.365       \n",
       "Arizona     2.212       2.212       \n",
       "Arkansas    2.110       2.110       \n",
       "California 21.198      21.198       \n",
       "Colorado    2.541       2.541       "
      ]
     },
     "metadata": {},
     "output_type": "display_data"
    }
   ],
   "source": [
    "mystate$PopulationMil <- mystate$Population / 1000\n",
    "head(mystate)"
   ]
  },
  {
   "cell_type": "markdown",
   "metadata": {},
   "source": [
    "### 7. Ermittle mithilfe geeigneter Schätzer für die Lage und Streuung der ersten 5 Variablen, Population, Income, Illiteracy, Life Exp(ectancy) und Murder."
   ]
  },
  {
   "cell_type": "code",
   "execution_count": 16,
   "metadata": {},
   "outputs": [
    {
     "data": {
      "text/plain": [
       "                Mean    Median       IQR\n",
       "Population 4246.4200 2838.5000 3889.0000\n",
       "Income     4435.8000 4519.0000  820.7500\n",
       "Illiteracy    1.1700    0.9500    0.9500\n",
       "Life Exp     70.8786   70.6750    1.7750\n",
       "Murder        7.3780    6.8500    6.3250"
      ]
     },
     "metadata": {},
     "output_type": "display_data"
    }
   ],
   "source": [
    "full <- matrix(c(\n",
    "    mean(state.x77[,'Population']),\n",
    "    mean(state.x77[,'Income']),\n",
    "    mean(state.x77[,'Illiteracy']),\n",
    "    mean(state.x77[,'Life Exp']),\n",
    "    mean(state.x77[,'Murder']),\n",
    "    median(state.x77[,'Population']),\n",
    "    median(state.x77[,'Income']),\n",
    "    median(state.x77[,'Illiteracy']),\n",
    "    median(state.x77[,'Life Exp']),\n",
    "    median(state.x77[,'Murder']),\n",
    "    IQR(state.x77[,'Population']),\n",
    "    IQR(state.x77[,'Income']),\n",
    "    IQR(state.x77[,'Illiteracy']),\n",
    "    IQR(state.x77[,'Life Exp']),\n",
    "    IQR(state.x77[,'Murder'])\n",
    "), ncol=3)\n",
    "rownames(full) <- c(\"Population\", \"Income\", \"Illiteracy\", \"Life Exp\", \"Murder\")\n",
    "colnames(full) <- c(\"Mean\", \"Median\", \"IQR\")\n",
    "full <- as.table(full)\n",
    "full"
   ]
  },
  {
   "cell_type": "markdown",
   "metadata": {},
   "source": [
    "Median und Quartilsabstand, arithmetischer Mittelwert"
   ]
  },
  {
   "cell_type": "markdown",
   "metadata": {},
   "source": [
    "### 8. Stelle die Daten der ersten 5 Variablen, Population, Income, Illiteracy, Life Exp(ectancy) und Murder in geeigneter Weise graphisch dar. Verwende dafür wenigstens 2 unterschiedliche graphische Darstellungen."
   ]
  },
  {
   "cell_type": "markdown",
   "metadata": {},
   "source": [
    "Siehe Punkte 9 & 10."
   ]
  },
  {
   "cell_type": "markdown",
   "metadata": {},
   "source": [
    "### 9. Begründe anhand der graphischen Darstellung, ob es sich symmetrische oder schiefe Datenverteilungen handelt. Begründe anhand der graphischen Darstellungen, ob schwere oder leichte Ränder vorliegen (und auf welcher Seite)."
   ]
  },
  {
   "cell_type": "code",
   "execution_count": 104,
   "metadata": {},
   "outputs": [
    {
     "data": {
      "image/png": "[encoded data removed]",
      "text/plain": [
       "Plot with title \"Population\""
      ]
     },
     "metadata": {},
     "output_type": "display_data"
    }
   ],
   "source": [
    "hist(mystate$PopulationMil, freq=FALSE, breaks=20, xlab=\"Population in Millions\", main=\"Population\")\n",
    "dens <- density(mystate$PopulationMil)\n",
    "lines(dens)"
   ]
  },
  {
   "cell_type": "code",
   "execution_count": 77,
   "metadata": {},
   "outputs": [
    {
     "data": {
      "image/png": "[encoded data removed]",
      "text/plain": [
       "Plot with title \"Income\""
      ]
     },
     "metadata": {},
     "output_type": "display_data"
    }
   ],
   "source": [
    "hist(mystate$Income, freq=FALSE, breaks=150, xlab=\"Income in Dollar\", main=\"Income\")\n",
    "dens <- density(mystate$Income)\n",
    "lines(dens)"
   ]
  },
  {
   "cell_type": "code",
   "execution_count": 78,
   "metadata": {},
   "outputs": [
    {
     "data": {
      "image/png": "[encoded data removed]",
      "text/plain": [
       "Plot with title \"Illiteracy\""
      ]
     },
     "metadata": {},
     "output_type": "display_data"
    }
   ],
   "source": [
    "hist(mystate$Illiteracy, freq=FALSE, xlab=\"Illiteracy in %\", main=\"Illiteracy\")\n",
    "dens <- density(mystate$Illiteracy)\n",
    "lines(dens)"
   ]
  },
  {
   "cell_type": "code",
   "execution_count": 88,
   "metadata": {},
   "outputs": [
    {
     "data": {
      "image/png": "[encoded data removed]",
      "text/plain": [
       "Plot with title \"Life Expectancy\""
      ]
     },
     "metadata": {},
     "output_type": "display_data"
    }
   ],
   "source": [
    "hist(mystate$\"Life Exp\", freq=FALSE, breaks=15, xlab=\"Life Expectancy in years\", main=\"Life Expectancy\")\n",
    "dens <- density(mystate$\"Life Exp\")\n",
    "lines(dens)"
   ]
  },
  {
   "cell_type": "code",
   "execution_count": 91,
   "metadata": {},
   "outputs": [
    {
     "data": {
      "image/png": "[encoded data removed]",
      "text/plain": [
       "Plot with title \"Murder\""
      ]
     },
     "metadata": {},
     "output_type": "display_data"
    }
   ],
   "source": [
    "hist(mystate$Murder, freq=FALSE, breaks=10, xlab=\"Murder rate per 100,000 population\", main=\"Murder\")\n",
    "dens <- density(mystate$Murder)\n",
    "lines(dens)"
   ]
  },
  {
   "cell_type": "markdown",
   "metadata": {},
   "source": [
    "### 10. Bestimme anhand graphischen Darstellungen aus Punkt 8. und der Erkenntnisse aus 9., ob Ausreißer vorliegen und welche Punkte dies sind."
   ]
  },
  {
   "cell_type": "markdown",
   "metadata": {},
   "source": [
    "Ausreißer Boxplot"
   ]
  },
  {
   "cell_type": "code",
   "execution_count": 23,
   "metadata": {},
   "outputs": [
    {
     "data": {
      "text/html": [
       "<table>\n",
       "<thead><tr><th></th><th scope=col>Population</th><th scope=col>Income</th><th scope=col>Illiteracy</th><th scope=col>Life Exp</th><th scope=col>Murder</th><th scope=col>HS Grad</th><th scope=col>Frost</th><th scope=col>Area</th></tr></thead>\n",
       "<tbody>\n",
       "\t<tr><th scope=row>Illinois</th><td>11197 </td><td>5107  </td><td>0.9   </td><td>70.14 </td><td>10.3  </td><td>52.6  </td><td>127   </td><td> 55748</td></tr>\n",
       "\t<tr><th scope=row>Pennsylvania</th><td>11860 </td><td>4449  </td><td>1.0   </td><td>70.43 </td><td> 6.1  </td><td>50.2  </td><td>126   </td><td> 44966</td></tr>\n",
       "\t<tr><th scope=row>Texas</th><td>12237 </td><td>4188  </td><td>2.2   </td><td>70.90 </td><td>12.2  </td><td>47.4  </td><td> 35   </td><td>262134</td></tr>\n",
       "\t<tr><th scope=row>New York</th><td>18076 </td><td>4903  </td><td>1.4   </td><td>70.55 </td><td>10.9  </td><td>52.7  </td><td> 82   </td><td> 47831</td></tr>\n",
       "\t<tr><th scope=row>California</th><td>21198 </td><td>5114  </td><td>1.1   </td><td>71.71 </td><td>10.3  </td><td>62.6  </td><td> 20   </td><td>156361</td></tr>\n",
       "</tbody>\n",
       "</table>\n"
      ],
      "text/latex": [
       "\\begin{tabular}{r|llllllll}\n",
       "  & Population & Income & Illiteracy & Life Exp & Murder & HS Grad & Frost & Area\\\\\n",
       "\\hline\n",
       "\tIllinois & 11197  & 5107   & 0.9    & 70.14  & 10.3   & 52.6   & 127    &  55748\\\\\n",
       "\tPennsylvania & 11860  & 4449   & 1.0    & 70.43  &  6.1   & 50.2   & 126    &  44966\\\\\n",
       "\tTexas & 12237  & 4188   & 2.2    & 70.90  & 12.2   & 47.4   &  35    & 262134\\\\\n",
       "\tNew York & 18076  & 4903   & 1.4    & 70.55  & 10.9   & 52.7   &  82    &  47831\\\\\n",
       "\tCalifornia & 21198  & 5114   & 1.1    & 71.71  & 10.3   & 62.6   &  20    & 156361\\\\\n",
       "\\end{tabular}\n"
      ],
      "text/markdown": [
       "\n",
       "| <!--/--> | Population | Income | Illiteracy | Life Exp | Murder | HS Grad | Frost | Area |\n",
       "|---|---|---|---|---|---|---|---|---|\n",
       "| Illinois | 11197  | 5107   | 0.9    | 70.14  | 10.3   | 52.6   | 127    |  55748 |\n",
       "| Pennsylvania | 11860  | 4449   | 1.0    | 70.43  |  6.1   | 50.2   | 126    |  44966 |\n",
       "| Texas | 12237  | 4188   | 2.2    | 70.90  | 12.2   | 47.4   |  35    | 262134 |\n",
       "| New York | 18076  | 4903   | 1.4    | 70.55  | 10.9   | 52.7   |  82    |  47831 |\n",
       "| California | 21198  | 5114   | 1.1    | 71.71  | 10.3   | 62.6   |  20    | 156361 |\n",
       "\n"
      ],
      "text/plain": [
       "             Population Income Illiteracy Life Exp Murder HS Grad Frost Area  \n",
       "Illinois     11197      5107   0.9        70.14    10.3   52.6    127    55748\n",
       "Pennsylvania 11860      4449   1.0        70.43     6.1   50.2    126    44966\n",
       "Texas        12237      4188   2.2        70.90    12.2   47.4     35   262134\n",
       "New York     18076      4903   1.4        70.55    10.9   52.7     82    47831\n",
       "California   21198      5114   1.1        71.71    10.3   62.6     20   156361"
      ]
     },
     "metadata": {},
     "output_type": "display_data"
    },
    {
     "data": {
      "image/png": "[encoded data removed]",
      "text/plain": [
       "plot without title"
      ]
     },
     "metadata": {},
     "output_type": "display_data"
    }
   ],
   "source": [
    "boxplot(mystate$Population, horizontal=TRUE)\n",
    "quantiles <- quantile(mystate$Population, probs = c(0.25, 0.75))\n",
    "lower <- quantiles[[1]]\n",
    "upper <- quantiles[[2]]\n",
    "out <- upper + (upper-lower)*1.5\n",
    "# Output with matrix: state.x77[state.x77[,'Population'] > out,]\n",
    "# Output with own table:\n",
    "outliers <- mystate[mystate$Population > out,]\n",
    "outliers[order(outliers$Population),]"
   ]
  },
  {
   "cell_type": "code",
   "execution_count": 26,
   "metadata": {},
   "outputs": [
    {
     "data": {
      "text/html": [
       "<table>\n",
       "<thead><tr><th></th><th scope=col>Population</th><th scope=col>Income</th><th scope=col>Illiteracy</th><th scope=col>Life Exp</th><th scope=col>Murder</th><th scope=col>HS Grad</th><th scope=col>Frost</th><th scope=col>Area</th></tr></thead>\n",
       "<tbody>\n",
       "\t<tr><th scope=row>Alaska</th><td>365   </td><td>6315  </td><td>1.5   </td><td>69.31 </td><td>11.3  </td><td>66.7  </td><td>152   </td><td>566432</td></tr>\n",
       "</tbody>\n",
       "</table>\n"
      ],
      "text/latex": [
       "\\begin{tabular}{r|llllllll}\n",
       "  & Population & Income & Illiteracy & Life Exp & Murder & HS Grad & Frost & Area\\\\\n",
       "\\hline\n",
       "\tAlaska & 365    & 6315   & 1.5    & 69.31  & 11.3   & 66.7   & 152    & 566432\\\\\n",
       "\\end{tabular}\n"
      ],
      "text/markdown": [
       "\n",
       "| <!--/--> | Population | Income | Illiteracy | Life Exp | Murder | HS Grad | Frost | Area |\n",
       "|---|---|---|---|---|---|---|---|---|\n",
       "| Alaska | 365    | 6315   | 1.5    | 69.31  | 11.3   | 66.7   | 152    | 566432 |\n",
       "\n"
      ],
      "text/plain": [
       "       Population Income Illiteracy Life Exp Murder HS Grad Frost Area  \n",
       "Alaska 365        6315   1.5        69.31    11.3   66.7    152   566432"
      ]
     },
     "metadata": {},
     "output_type": "display_data"
    },
    {
     "data": {
      "image/png": "[encoded data removed]",
      "text/plain": [
       "plot without title"
      ]
     },
     "metadata": {},
     "output_type": "display_data"
    }
   ],
   "source": [
    "boxplot(mystate$Income, horizontal=TRUE)\n",
    "quantiles <- quantile(mystate$Income, probs = c(0.25, 0.75))\n",
    "lower <- quantiles[[1]]\n",
    "upper <- quantiles[[2]]\n",
    "out <- upper + (upper-lower)*1.5\n",
    "outliers <- mystate[mystate$Income > out,]\n",
    "outliers[order(outliers$Income),]"
   ]
  },
  {
   "cell_type": "code",
   "execution_count": 27,
   "metadata": {},
   "outputs": [
    {
     "data": {
      "text/html": [
       "<table>\n",
       "<thead><tr><th scope=col>Population</th><th scope=col>Income</th><th scope=col>Illiteracy</th><th scope=col>Life Exp</th><th scope=col>Murder</th><th scope=col>HS Grad</th><th scope=col>Frost</th><th scope=col>Area</th></tr></thead>\n",
       "<tbody>\n",
       "</tbody>\n",
       "</table>\n"
      ],
      "text/latex": [
       "\\begin{tabular}{r|llllllll}\n",
       " Population & Income & Illiteracy & Life Exp & Murder & HS Grad & Frost & Area\\\\\n",
       "\\hline\n",
       "\\end{tabular}\n"
      ],
      "text/markdown": [
       "\n",
       "| Population | Income | Illiteracy | Life Exp | Murder | HS Grad | Frost | Area |\n",
       "|---|---|---|---|---|---|---|---|\n",
       "\n"
      ],
      "text/plain": [
       "     Population Income Illiteracy Life Exp Murder HS Grad Frost Area"
      ]
     },
     "metadata": {},
     "output_type": "display_data"
    },
    {
     "data": {
      "image/png": "[encoded data removed]",
      "text/plain": [
       "plot without title"
      ]
     },
     "metadata": {},
     "output_type": "display_data"
    }
   ],
   "source": [
    "boxplot(mystate$Illiteracy, horizontal=TRUE)\n",
    "quantiles <- quantile(mystate$Illiteracy, probs = c(0.25, 0.75))\n",
    "lower <- quantiles[[1]]\n",
    "upper <- quantiles[[2]]\n",
    "out <- upper + (upper-lower)*1.5\n",
    "outliers <- mystate[mystate$Illiteracy > out,]\n",
    "outliers[order(outliers$Illiteracy),]"
   ]
  },
  {
   "cell_type": "code",
   "execution_count": 40,
   "metadata": {},
   "outputs": [
    {
     "data": {
      "text/html": [
       "<table>\n",
       "<thead><tr><th scope=col>Population</th><th scope=col>Income</th><th scope=col>Illiteracy</th><th scope=col>Life Exp</th><th scope=col>Murder</th><th scope=col>HS Grad</th><th scope=col>Frost</th><th scope=col>Area</th></tr></thead>\n",
       "<tbody>\n",
       "</tbody>\n",
       "</table>\n"
      ],
      "text/latex": [
       "\\begin{tabular}{r|llllllll}\n",
       " Population & Income & Illiteracy & Life Exp & Murder & HS Grad & Frost & Area\\\\\n",
       "\\hline\n",
       "\\end{tabular}\n"
      ],
      "text/markdown": [
       "\n",
       "| Population | Income | Illiteracy | Life Exp | Murder | HS Grad | Frost | Area |\n",
       "|---|---|---|---|---|---|---|---|\n",
       "\n"
      ],
      "text/plain": [
       "     Population Income Illiteracy Life Exp Murder HS Grad Frost Area"
      ]
     },
     "metadata": {},
     "output_type": "display_data"
    },
    {
     "data": {
      "image/png": "[encoded data removed]",
      "text/plain": [
       "plot without title"
      ]
     },
     "metadata": {},
     "output_type": "display_data"
    }
   ],
   "source": [
    "boxplot(mystate$\"Life Exp\", horizontal=TRUE)\n",
    "quantiles <- quantile(mystate$\"Life Exp\", probs = c(0.25, 0.75))\n",
    "lower <- quantiles[[1]]\n",
    "upper <- quantiles[[2]]\n",
    "out <- upper + (upper-lower)*1.5\n",
    "outliers <- mystate[mystate$\"Life Exp\" > out,]\n",
    "outliers[order(outliers$\"Life Exp\"),]"
   ]
  },
  {
   "cell_type": "code",
   "execution_count": 41,
   "metadata": {},
   "outputs": [
    {
     "data": {
      "text/html": [
       "<table>\n",
       "<thead><tr><th scope=col>Population</th><th scope=col>Income</th><th scope=col>Illiteracy</th><th scope=col>Life Exp</th><th scope=col>Murder</th><th scope=col>HS Grad</th><th scope=col>Frost</th><th scope=col>Area</th></tr></thead>\n",
       "<tbody>\n",
       "</tbody>\n",
       "</table>\n"
      ],
      "text/latex": [
       "\\begin{tabular}{r|llllllll}\n",
       " Population & Income & Illiteracy & Life Exp & Murder & HS Grad & Frost & Area\\\\\n",
       "\\hline\n",
       "\\end{tabular}\n"
      ],
      "text/markdown": [
       "\n",
       "| Population | Income | Illiteracy | Life Exp | Murder | HS Grad | Frost | Area |\n",
       "|---|---|---|---|---|---|---|---|\n",
       "\n"
      ],
      "text/plain": [
       "     Population Income Illiteracy Life Exp Murder HS Grad Frost Area"
      ]
     },
     "metadata": {},
     "output_type": "display_data"
    },
    {
     "data": {
      "image/png": "[encoded data removed]",
      "text/plain": [
       "plot without title"
      ]
     },
     "metadata": {},
     "output_type": "display_data"
    }
   ],
   "source": [
    "boxplot(mystate$Murder, horizontal=TRUE)\n",
    "quantiles <- quantile(mystate$Murder, probs = c(0.25, 0.75))\n",
    "lower <- quantiles[[1]]\n",
    "upper <- quantiles[[2]]\n",
    "out <- upper + (upper-lower)*1.5\n",
    "outliers <- mystate[mystate$Murder > out,]\n",
    "outliers[order(outliers$Murder),]"
   ]
  },
  {
   "cell_type": "markdown",
   "metadata": {},
   "source": [
    "{% bibliography --cited %}"
   ]
  },
  {
   "cell_type": "code",
   "execution_count": null,
   "metadata": {},
   "outputs": [],
   "source": []
  }
 ],
 "metadata": {
  "kernelspec": {
   "display_name": "R",
   "language": "R",
   "name": "ir"
  },
  "language_info": {
   "codemirror_mode": "r",
   "file_extension": ".r",
   "mimetype": "text/x-r-source",
   "name": "R",
   "pygments_lexer": "r",
   "version": "3.6.1"
  }
 },
 "nbformat": 4,
 "nbformat_minor": 4
}
